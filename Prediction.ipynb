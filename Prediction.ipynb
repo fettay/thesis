{
 "cells": [
  {
   "cell_type": "code",
   "execution_count": 1,
   "metadata": {},
   "outputs": [
    {
     "name": "stdout",
     "output_type": "stream",
     "text": [
      "/specific/a/home/cc/students/math/raphaelf/thesis\n"
     ]
    }
   ],
   "source": [
    "cd /specific/a/home/cc/students/math/raphaelf/thesis"
   ]
  },
  {
   "cell_type": "code",
   "execution_count": 2,
   "metadata": {},
   "outputs": [],
   "source": [
    "from data_helper import files_df, split_train_test\n",
    "from model import PDFDataSet, MalConv\n",
    "import torch\n",
    "from torch.utils.data import DataLoader\n",
    "from torch.autograd import Variable\n",
    "import torch.nn as nn"
   ]
  },
  {
   "cell_type": "code",
   "execution_count": 3,
   "metadata": {},
   "outputs": [],
   "source": [
    "df = files_df()\n",
    "df_train, df_test = split_train_test(df, 0.1)\n",
    "df_test, df_valid = split_train_test(df_test, 0.2)"
   ]
  },
  {
   "cell_type": "code",
   "execution_count": 4,
   "metadata": {},
   "outputs": [
    {
     "data": {
      "text/plain": [
       "set()"
      ]
     },
     "execution_count": 4,
     "metadata": {},
     "output_type": "execute_result"
    }
   ],
   "source": [
    "set(df_train.index).intersection(set(df_test.index))"
   ]
  },
  {
   "cell_type": "code",
   "execution_count": 5,
   "metadata": {},
   "outputs": [],
   "source": [
    "dataloader = DataLoader(PDFDataSet(df_test), batch_size=64, shuffle=False)\n",
    "device = \"cuda:3\""
   ]
  },
  {
   "cell_type": "code",
   "execution_count": 6,
   "metadata": {},
   "outputs": [],
   "source": [
    "malconv = torch.load('Chkp/5f0bfc8b-458d-45f7-b72c-bdafeb7c5703')\n",
    "malconv.eval()\n",
    "malconv = malconv.to(device)"
   ]
  },
  {
   "cell_type": "code",
   "execution_count": 7,
   "metadata": {},
   "outputs": [],
   "source": [
    "val_pred = []\n",
    "val_label = []\n",
    "for _,val_batch_data in enumerate(dataloader):\n",
    "    cur_batch_size = val_batch_data[0].size(0)\n",
    "\n",
    "    exe_input = val_batch_data[0].to(device)\n",
    "    exe_input = Variable(exe_input.long(),requires_grad=False)\n",
    "\n",
    "    label = val_batch_data[1].to(device)\n",
    "    label = Variable(label.float(),requires_grad=False)\n",
    "\n",
    "    pred = malconv(exe_input)\n",
    "    val_pred.extend(pred.cpu().data)\n",
    "    val_label.extend(label)"
   ]
  },
  {
   "cell_type": "code",
   "execution_count": 9,
   "metadata": {},
   "outputs": [],
   "source": [
    "from sklearn.metrics import confusion_matrix\n",
    "import numpy as np"
   ]
  },
  {
   "cell_type": "code",
   "execution_count": 41,
   "metadata": {},
   "outputs": [
    {
     "data": {
      "text/plain": [
       "array([[0.99056503, 0.00943497],\n",
       "       [0.02631579, 0.97368421]])"
      ]
     },
     "execution_count": 41,
     "metadata": {},
     "output_type": "execute_result"
    }
   ],
   "source": [
    "cm = confusion_matrix(val_label, np.array(val_pred) > 0.1)\n",
    "cm = cm.astype('float') / cm.sum(axis=1)[:, np.newaxis]\n",
    "cm"
   ]
  },
  {
   "cell_type": "code",
   "execution_count": 14,
   "metadata": {},
   "outputs": [],
   "source": [
    "import pandas as pd"
   ]
  },
  {
   "cell_type": "code",
   "execution_count": 31,
   "metadata": {},
   "outputs": [],
   "source": [
    "threshold = .5"
   ]
  },
  {
   "cell_type": "code",
   "execution_count": 15,
   "metadata": {},
   "outputs": [],
   "source": [
    "df_results = df_test.copy()"
   ]
  },
  {
   "cell_type": "code",
   "execution_count": 18,
   "metadata": {},
   "outputs": [],
   "source": [
    "df_results['pred'] = pd.Series(np.array(val_pred), index=df_results.index)"
   ]
  },
  {
   "cell_type": "code",
   "execution_count": 37,
   "metadata": {},
   "outputs": [
    {
     "name": "stdout",
     "output_type": "stream",
     "text": [
      "d8c7998c1db522989d8e4ee37a6e136ba4f5d3a57d322a7351067eeabebd38f0\n",
      "1e4fa4d38962eaab913d71d1aec3b339464223feb42eee2064a580dd25b54c74\n",
      "893e9a521f1b74f9f0b663f506179fdb0e2d8636218c8c5b4423f5b804fb5aba\n",
      "381acaee65197d2336618a5866882e1afc8ca77b2c3515a2de9b60572bf7e7a0\n",
      "6d0bf202d0e7e15a146cb4d2bdff528f59f275e239d4928428c09cd0ac60bd43\n",
      "9057e08f37250143fcbd4188be782314badd874d3d5b11ae6596703e47831c52\n",
      "973b8ccea7bb1376f7d377eddf3a6728433b2357946d82b62f69d1a6a01a8e69\n",
      "1a882542a5154a41f2e29556939cf57e1810fc295737e036bb652cf596768b90\n",
      "523e2752ef8af9b87590f0dd7816e76f82c94ec2072e9d21054e34af513f74a2\n",
      "0fe423f447afa2a4f02a2c8f840d52896851a9c79216acde2e48c1619f114bd1\n",
      "4eec94849b25f46c677f0c8a9386ba30f645c67586dd11cee57cc9f6e21cdce3\n",
      "f74dc9c87e7ca55310a59906d9797746f70cf297e2a41e57d5eceaf618046e27\n",
      "ba2b524b889bbdd1df44c7ea77542a93a6c650c9806f30e2153f9180a67b02e7\n",
      "1aba2082bf8f5e6f5fe2ba4deaa2875b92b193999ddccce449cd0d3c61f8cf32\n",
      "b61cfd47c51b4a4cbdae7f7da0c7765cc27bd6d875fabd47b31aaeb1efda3730\n",
      "dd6ac22cf41bb73d5162d357f0dc09684be2b9b1e1b34e10883ee95fbd187459\n",
      "2142dc05f6e32a3a774956908078214829feede89a8f09b82cd1a66a0568431b\n",
      "741a7c19516ac758a3141523fbe4de0e53081d5afc264717727712d88497e553\n",
      "bdaab475cfdbe389d0fc71de98211dfdedf59ae21eff9eb05ded83e03938900e\n",
      "69be89452cf56ef07e33e351b3534e301de9a2fa818719419b65290dea84931f\n",
      "d02a6334aac517862d34a7cef535e451d38c8519ce270b66247fc002f4c147c8\n",
      "a16cefb428ceaed6b4dc334b86a57844e7b49b68bb3194eea5ede1fdea41a83d\n",
      "2e49065d2afb124e505ec77efd37054aed10b4acfb0d14ba26f52024c908b32d\n",
      "723d5cf8f030a43a364e04b58227beb068a3575a77f909d79570f7b8ed09378f\n",
      "7e294b7aba776e4026e9850c25952b4cafd589a9b7c82789d79fbe98246c51ce\n",
      "f0e03cd90970ad394a928b1264f46546f8f51019fb352d3a8546a3142c5c6a12\n",
      "efe2fa9b950386d14f016a17bac0ac9b4f1b830470000ad7d3a912073af72dbe\n",
      "f5501e99b78cac05a71f8e87500ac6a23fd47a76776bb4bad1918e0b2d6fa800\n",
      "c18578fafccdc348a1f8ef90442073c4d19c70c87c342e6d19a3be6e74d0bc5b\n",
      "58bf5f6938f6a12ad7f95e750424381ec1729e9d661496c5b3ac4c4eb8c7e22c\n",
      "f3847353504ee2280fb8db351415e781ecb90dc4748161f6637ab4168106c07b\n",
      "26e365de2c6d606a03500eb88cac8356b5019630a2f2c884677d2c5b8a4b38a4\n",
      "1f5814bf2467fdddcb619cbff13213d11043bb66641b142512486dbcd06d3277\n",
      "ce0a3d3c2ffb83dc877c95359bcc0f83c1e3594b9e968fb27759dfca0257c1dd\n",
      "76b11d249f7d566c83191cf2ffa6e9c5ace272d02899dfdc5fcd33b2a9953d3c\n",
      "2f170d666063cd52dc64a9bbdda4f643eeec65c3a5d24259d03b072549ed61d9\n",
      "81c3186a5c2b072d219d24ea5df4b45576d6dbc6e9b14020c18bab7e363d2610\n",
      "0f7a1f9c535e8cc65895c47726123f237e2e4659c9ee141f74cbb0368067f1f0\n",
      "f6c9ca72c1b668df365322b43ef0aecaebbac270d1c2dd350f94d4606a18fd36\n",
      "611881f5f411341363ea1634ebcd4ad583c6fa37b6ef95c0fe43450d5d1bd21f\n",
      "dcc96696b9d7788730e87ffe2703023c6e14381067322434eea4fdfd0f10ca08\n",
      "218a953f070db4908ccffbc633df9985e99ccab57aba2afa08989140159983d4\n",
      "22476c744fbe847f2e6340dcb38430897d06210c843f9eddb3505d96bc73989b\n",
      "2acc63bf6362f86944458e9258c266228e65cef23d5b98079ae59ecbd80d1adf\n",
      "2b72f30af1b2d945943a7d760fc605db7677947382100b09e8d1b66b47965c44\n",
      "75b4e0644e720c0d7b5d3f360775f46f03158c6c071259ea0905d70eb75916f0\n",
      "06b7649044c2a517697e6f7ab1b63fb0df0cfc94bec61318674678c0fbab5ee9\n",
      "4b672deae5c1231ea20ea70b0bf091164ef0b939e2cf4d142d31916a169e8e01\n",
      "9f6fcc7f75a2d8c6c80c3ac9888ee8900974a219b256f35bfe6774c8142862a3\n",
      "3bdf6aad8c2ad509f2f27cfe7d451c457e4d0c5fd90590fa132013622667cebd\n"
     ]
    }
   ],
   "source": [
    "fn = df_results[(df_results['pred'] <= threshold) & (df_results['verdict'])]\n",
    "print(\"\\n\".join(fn['hash'].values[:50]))"
   ]
  },
  {
   "cell_type": "code",
   "execution_count": 40,
   "metadata": {},
   "outputs": [
    {
     "name": "stdout",
     "output_type": "stream",
     "text": [
      "8ee260b86091e679a1335bf4f0000e7d498f584be5c80a2b18dc7606cb323d42\n",
      "443effa6a5dbdbee81048798311f8e9442b27b1b22ba20d9d91a2ad659950555\n",
      "3eaaa89ae7424e8be7f357c49e3afdc57c439788269c159919f68c61a5ce20b9\n",
      "56457c0254fd936116843e16d5bed6acdd2918dedd14de305f69a0e8e9a8d788\n",
      "682889440e590240c476ebe8ead29dd2af80f5539408eef32caebf0393ff95c2\n",
      "369e03253c072b0c406cb3d817441a144f49d255675e18611a488ddf1f3d9399\n",
      "cbf2c68dfe9c0f2850163a300ee7235c798ddbf11a4a7bccf89567abdbc1993d\n",
      "193327cb2e14550a8ac655a336e6bf46732f6a72b9facc274455f576e1c28f80\n",
      "0bb567bbcb8cdfa5074301580f43188b4780a4fbab3f709fe37259293cd94a34\n",
      "cdcbd95b59e0db613a88901eea3c93893f2c55f03786d33ed583d1164f1fdf55\n",
      "933aa0aa501ab1106ae25231eaeb7c5138444f3b8eeadc3f16dd06698c2a0f99\n",
      "c86e7c75187d5059c2d8c3519e2c019298835bc44e828476ecc4f6b372470685\n",
      "8d6423bfc7e8e16f96ba7cf623ba3e1c0a13da559e7fa25f3fef7e61c2492ecc\n",
      "25dca60de62f8bffefb912a7947653d62b246e2243f95b69ba3c7eaec61c7e03\n",
      "0670c7ce7fede0824bcb864ce5503d5903066620c5b7e868695e771cd153876b\n",
      "6ebdf0f0636b88ca7c478e44a890cfcf3709ba0657b14f38288cdec010a35219\n",
      "e5786021fbea8511ec7ef8c20065d53e83bad9e0ed36613f4159d7358721c6b1\n",
      "bf1b60478955df32752c746bd7240046f235f2e303a1d68891d63a7ad74626e1\n",
      "05c0892e996f88e5242095cb057084d0541c27323da80d1301058e02caa8987f\n",
      "c7d0943d5387d4ae3f9f943d5ef04f8ab57efd03de2851db2e04fe8c772e4998\n",
      "c7825e25fe71620aa87407dfc18a744b3f4b7157df073edee34822ac5f3a06fb\n",
      "47b97f3b81baa5d8ba3b9b6a79a8552e7c82aa353ee9bf794be68641124dcae3\n",
      "0171deda8d0253de96c123aa7ad9ad2b5b660c337793c927b429d53bd5989779\n",
      "ab09c3c236e4edc4b0d2bf9f74dd1413488d8a3666aa8ee0002fca804a119b34\n",
      "61c44507e332ab07473c333308ad9c45fd2f98bf8ecc1ea1664510c17faf76ca\n",
      "c49db8c2389df6b3ec366c55253f0df61de5a2ad67b3e2749b0e0139610972fb\n",
      "7c8fee918199f629f6f5e310a61c05c2583b1389811e48f9cc81a0270d03f1ea\n",
      "79a5e792e4a9bb9ab166b13dfd55f7ac6ee62293250ddb69bb7b06c5019d4186\n",
      "5832ed7a691860bd726bb2b4b729dd4eec13ac7a8e2b8df948c7f41e6770593a\n",
      "546298ed7d5ae6658a486cce4af894577df9b46287a95f983faedbbfc13b37ac\n",
      "71eaf4d7cf9ade06c6d9a72abef3be12672a56301be78422b6072ec889312b36\n",
      "cb12e2bde7fd26d8949d41a15e890db9f17a398db6eed27cc5374103fa1fab6e\n",
      "fbf7f715114993735bb7d28ec09a3950628ba144a8497e565e58ab2ea69335e9\n",
      "30042e991ddf5fab248be9c18ec2f63a7c4bd159716831d6be748aabcb0ca85e\n",
      "4967779ed93e178ad3e5d895a434f4866f77ddc3df9e9f3c0c69d9c6419835d6\n",
      "21b73b6cfb10b6c6da351ba8f3d1e7a55c1e747bfeb53d27de1740dbb6c13b86\n",
      "e4eefc69d4324b9352ae4fb39a9fc59377a5d1593ec4277520474b7d0dae37ab\n",
      "a08a9e0f9bb866165e19a9ef48133856661cd3ef6457db4eaa239842968dc447\n",
      "86a96ec03ba8242c1486456d67ee17f919128754846dbb3bdf5e836059091dba\n",
      "a59b0757ecba645b67d281f2f45ec40456f3aa3abfc98d78772a9650a32a8622\n",
      "76d3f249f93de6a3807e61c964b69a7a20312afdbb221a8423cb830bedf6c840\n",
      "e4bae47f9a937f204eed5f3416a0b88f616d875cf1ee93750d21060ee83d3a17\n",
      "7c180c83226ceadf14954677df7acc870c22c0640d207f26febea7aacf51a5d8\n",
      "c2c5aa35c2477770e6729f0d532162c09f3153e4f1d7dc2131a94642613ba0fc\n",
      "4d52f498ed1c817c96101920294ecb3ffe7ec2070616859f97029761259ef1ce\n",
      "50e35eb752cc20a3546b3d4d64f55fb15d67b295ed420e2e9460eb9d2da9cf3e\n",
      "d808a9b5914b7e8eaf34be4536fe9c0c1ae275aa452c81d2f565fca90084abee\n",
      "45223d6ffafc8220116a475f9922354d72ab6f3c9565982510911f8a1b24ee9c\n",
      "0c5015992d708419668ded9613f1c87370d418aa6040346a8b39604ad798adfb\n",
      "19f901702ced8baa39297fbf7b2483034d900038dd19ae9f7d7a7411083bb4db\n"
     ]
    }
   ],
   "source": [
    "tp = df_results[(df_results['pred'] > threshold) & (df_results['verdict'])]\n",
    "print(\"\\n\".join(tp['hash'].values[:50]))"
   ]
  }
 ],
 "metadata": {
  "kernelspec": {
   "display_name": "thesis",
   "language": "python",
   "name": "thesis"
  },
  "language_info": {
   "codemirror_mode": {
    "name": "ipython",
    "version": 3
   },
   "file_extension": ".py",
   "mimetype": "text/x-python",
   "name": "python",
   "nbconvert_exporter": "python",
   "pygments_lexer": "ipython3",
   "version": "3.7.1"
  }
 },
 "nbformat": 4,
 "nbformat_minor": 2
}
