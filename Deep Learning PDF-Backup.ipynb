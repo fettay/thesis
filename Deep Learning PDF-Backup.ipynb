{
 "cells": [
  {
   "cell_type": "markdown",
   "metadata": {},
   "source": [
    "# MalconV on PDF"
   ]
  },
  {
   "cell_type": "markdown",
   "metadata": {},
   "source": [
    "### Preprocessing"
   ]
  },
  {
   "cell_type": "code",
   "execution_count": 1,
   "metadata": {},
   "outputs": [],
   "source": [
    "from globals import DATADIR, DATAMALDIR, LOCAL_BUCKET, BENIGN_LIST, MALICIOUS_LIST, BENIGN, MALICIOUS\n",
    "from storage import FsStorage\n",
    "import pandas as pd"
   ]
  },
  {
   "cell_type": "code",
   "execution_count": 2,
   "metadata": {},
   "outputs": [],
   "source": [
    "def files_df():\n",
    "    flist = []\n",
    "    verdicts = []\n",
    "    \n",
    "    with open(BENIGN_LIST) as f:\n",
    "        lines = f.read().split()\n",
    "    flist.extend(lines)\n",
    "    verdicts.extend([BENIGN]*len(lines))\n",
    "    \n",
    "    with open(MALICIOUS_LIST) as f:\n",
    "        lines = f.read().split()\n",
    "    flist.extend(lines)\n",
    "    verdicts.extend([MALICIOUS]*len(lines))\n",
    "    return pd.DataFrame({'hash': flist, 'verdict': verdicts})"
   ]
  },
  {
   "cell_type": "code",
   "execution_count": 3,
   "metadata": {},
   "outputs": [],
   "source": [
    "def get_file(name, label):\n",
    "    storage = FsStorage()\n",
    "    if label == BENIGN:\n",
    "        return storage.get(DATADIR + name)\n",
    "    elif label == MALICIOUS:\n",
    "        return storage.get(DATAMALDIR + name)\n",
    "    raise ValueError(\"Bad label\")"
   ]
  },
  {
   "cell_type": "code",
   "execution_count": 4,
   "metadata": {},
   "outputs": [],
   "source": [
    "df = files_df().sample(frac=1, random_state=42)"
   ]
  },
  {
   "cell_type": "code",
   "execution_count": 5,
   "metadata": {},
   "outputs": [],
   "source": [
    "cut_index = int(0.9*df.shape[0])\n",
    "df_train, df_test = df.iloc[:cut_index], df.iloc[cut_index:]"
   ]
  },
  {
   "cell_type": "markdown",
   "metadata": {},
   "source": [
    "### Defining the network"
   ]
  },
  {
   "cell_type": "code",
   "execution_count": 6,
   "metadata": {},
   "outputs": [],
   "source": [
    "INPUT_LENGTH = 1024*200\n",
    "INPUT_HEIGHT = 257"
   ]
  },
  {
   "cell_type": "code",
   "execution_count": 7,
   "metadata": {},
   "outputs": [
    {
     "name": "stdout",
     "output_type": "stream",
     "text": [
      "cuda:0\n"
     ]
    }
   ],
   "source": [
    "import numpy as np\n",
    "import torch\n",
    "import torch.nn as nn\n",
    "import torch.nn.functional as F\n",
    "from torch.utils.data import Dataset\n",
    "device = torch.device(\"cuda:0\" if torch.cuda.is_available() else \"cpu\")\n",
    "print(device)"
   ]
  },
  {
   "cell_type": "code",
   "execution_count": 8,
   "metadata": {},
   "outputs": [],
   "source": [
    "class MalConv(nn.Module):\n",
    "    def __init__(self,input_height=INPUT_HEIGHT, input_length=INPUT_LENGTH, window_size=500):\n",
    "        super().__init__()\n",
    "        embedding_size = 16\n",
    "        self.embed = nn.Embedding(input_height, embedding_size) \n",
    "        self.conv_1 = nn.Conv1d(embedding_size, 128, window_size, stride=window_size, bias=True)\n",
    "        self.conv_2 = nn.Conv1d(embedding_size, 128, window_size, stride=window_size, bias=True)\n",
    "\n",
    "        self.pooling = nn.MaxPool1d(int(input_length/window_size))\n",
    "        \n",
    "\n",
    "        self.fc_1 = nn.Linear(128,128)\n",
    "        self.fc_2 = nn.Linear(128,1)\n",
    "\n",
    "        self.sigmoid = nn.Sigmoid()\n",
    "        #self.softmax = nn.Softmax()\n",
    "        \n",
    "\n",
    "    def forward(self,x):\n",
    "        # Channel first\n",
    "        x = self.embed(x)  # Output batch_size, flength, n_embed\n",
    "        x = torch.transpose(x, 1, 2) # Output batch_size, n_embed, flength\n",
    "        cnn_value = self.conv_1(x)\n",
    "        gating_weight = self.sigmoid(self.conv_2(x))\n",
    "\n",
    "        x = cnn_value * gating_weight\n",
    "        x = self.pooling(x)\n",
    "\n",
    "        x = x.view(-1,128)\n",
    "        x = self.fc_1(x)\n",
    "        x = self.fc_2(x)\n",
    "        #x = self.sigmoid(x)\n",
    "\n",
    "        return x"
   ]
  },
  {
   "cell_type": "code",
   "execution_count": 9,
   "metadata": {},
   "outputs": [],
   "source": [
    "class PDFDataSet(Dataset):\n",
    "    def __init__(self, df, first_n_byte=INPUT_LENGTH):\n",
    "        self.df = df\n",
    "        self.first_n_byte = first_n_byte\n",
    "\n",
    "    def __len__(self):\n",
    "        return self.df.shape[0]\n",
    "\n",
    "    def __getitem__(self, idx):\n",
    "        row = self.df.iloc[idx]\n",
    "        cnt = get_file(row['hash'], row['verdict'])\n",
    "        tmp = [i+1 for i in cnt[:self.first_n_byte]]\n",
    "        tmp = tmp+[0]*(self.first_n_byte-len(tmp))\n",
    "        return np.array(tmp), np.array([row['verdict']])"
   ]
  },
  {
   "cell_type": "markdown",
   "metadata": {},
   "source": [
    "### Running "
   ]
  },
  {
   "cell_type": "code",
   "execution_count": 10,
   "metadata": {},
   "outputs": [],
   "source": [
    "from torch.utils.data import DataLoader\n",
    "import torch\n",
    "import torch.nn as nn\n",
    "import torch.optim as optim\n",
    "from torch.autograd import Variable\n",
    "import time"
   ]
  },
  {
   "cell_type": "code",
   "execution_count": 19,
   "metadata": {},
   "outputs": [],
   "source": [
    "BATCH_SIZE = 32\n",
    "use_gpu = True\n",
    "learning_rate = 1e-3\n",
    "max_step = 10\n",
    "display_step = 1\n",
    "test_step = 2"
   ]
  },
  {
   "cell_type": "code",
   "execution_count": 20,
   "metadata": {},
   "outputs": [
    {
     "name": "stdout",
     "output_type": "stream",
     "text": [
      "step,tr_loss, tr_acc, val_loss, val_acc, time\n",
      "\n",
      "2, 0.596795, 0.6406, 0.300026, 0.8906, 1.30\n",
      "step-2-tr_loss-0.596795-tr_acc-0.6406-val_loss-0.300026-val_acc-0.8906\n",
      "Checkpoint saved at Chkp/chkp.txt\n",
      "4, 0.109865, 0.9375, 0.212923, 0.9219, 1.45\n",
      "step-4-tr_loss-0.109865-tr_acc-0.9375-val_loss-0.212923-val_acc-0.9219\n",
      "Checkpoint saved at Chkp/chkp.txt\n",
      "6, 0.014962, 1.0000, 0.179455, 0.9375, 1.11\n",
      "step-6-tr_loss-0.014962-tr_acc-1.0000-val_loss-0.179455-val_acc-0.9375\n",
      "Checkpoint saved at Chkp/chkp.txt\n",
      "8, 0.001968, 1.0000, 0.176851, 0.9375, 1.09\n",
      "step-8-tr_loss-0.001968-tr_acc-1.0000-val_loss-0.176851-val_acc-0.9375\n",
      "10, 0.000420, 1.0000, 0.196169, 0.8906, 0.80\n",
      "step-10-tr_loss-0.000420-tr_acc-1.0000-val_loss-0.196169-val_acc-0.8906\n"
     ]
    }
   ],
   "source": [
    "dataloader = DataLoader(PDFDataSet(df_train.iloc[:64]), batch_size=BATCH_SIZE, shuffle=True)\n",
    "validloader = DataLoader(PDFDataSet(df_test.iloc[:64]), batch_size=BATCH_SIZE, shuffle=True)\n",
    "\n",
    "malconv = MalConv()\n",
    "bce_loss = nn.BCEWithLogitsLoss()\n",
    "adam_optim = optim.Adam([{'params':malconv.parameters()}],lr=learning_rate)\n",
    "sigmoid = nn.Sigmoid()\n",
    "\n",
    "if use_gpu:\n",
    "    malconv = malconv.cuda()\n",
    "    bce_loss = bce_loss.cuda()\n",
    "    sigmoid = sigmoid.cuda()\n",
    "\n",
    "\n",
    "step_msg = 'step-{}-loss-{:.6f}-acc-{:.4f}-time-{:.2f}'\n",
    "valid_msg = 'step-{}-tr_loss-{:.6f}-tr_acc-{:.4f}-val_loss-{:.6f}-val_acc-{:.4f}'\n",
    "log_msg = '{}, {:.6f}, {:.4f}, {:.6f}, {:.4f}, {:.2f}'\n",
    "history = {}\n",
    "history['tr_loss'] = []\n",
    "history['tr_acc'] = []\n",
    "\n",
    "print('step,tr_loss, tr_acc, val_loss, val_acc, time\\n')\n",
    "\n",
    "valid_best_acc = 0.0\n",
    "total_step = 0\n",
    "step_cost_time = 0\n",
    "\n",
    "while total_step < max_step:\n",
    "    \n",
    "    # Training \n",
    "    for step,batch_data in enumerate(dataloader):\n",
    "        start = time.time()\n",
    "        \n",
    "        adam_optim.zero_grad()\n",
    "        \n",
    "        cur_batch_size = batch_data[0].size(0)\n",
    "\n",
    "        exe_input = batch_data[0].cuda() if use_gpu else batch_data[0]\n",
    "        exe_input = Variable(exe_input.long(),requires_grad=False)\n",
    "        label = batch_data[1].cuda() if use_gpu else batch_data[1]\n",
    "        label = Variable(label.float(),requires_grad=False)\n",
    "        pred = malconv(exe_input)\n",
    "        loss = bce_loss(pred,label)\n",
    "        loss.backward()\n",
    "        adam_optim.step()\n",
    "        history['tr_loss'].append(loss.cpu().data.item())\n",
    "        history['tr_acc'].extend(list(label.cpu().data.numpy().astype(int)==(sigmoid(pred).cpu().data.numpy()+0.5).astype(int)))\n",
    "        \n",
    "        step_cost_time = time.time()-start\n",
    "        \n",
    "        if (step+1)%display_step == 0:\n",
    "            print(step_msg.format(total_step,np.mean(history['tr_loss']),\n",
    "                                  np.mean(history['tr_acc']),step_cost_time),end='\\r',flush=True)\n",
    "        total_step += 1\n",
    "\n",
    "        # Interupt for validation\n",
    "        if total_step%test_step ==0:\n",
    "            break\n",
    "    \n",
    "    \n",
    "    # Testing\n",
    "    history['val_loss'] = []\n",
    "    history['val_acc'] = []\n",
    "    history['val_pred'] = []\n",
    "    \n",
    "    for _,val_batch_data in enumerate(validloader):\n",
    "        cur_batch_size = val_batch_data[0].size(0)\n",
    "\n",
    "        exe_input = val_batch_data[0].cuda() if use_gpu else val_batch_data[0]\n",
    "        exe_input = Variable(exe_input.long(),requires_grad=False)\n",
    "\n",
    "        label = val_batch_data[1].cuda() if use_gpu else val_batch_data[1]\n",
    "        label = Variable(label.float(),requires_grad=False)\n",
    "\n",
    "        pred = malconv(exe_input)\n",
    "        loss = bce_loss(pred,label)\n",
    "\n",
    "        history['val_loss'].append(loss.cpu().data.item())\n",
    "        history['val_acc'].extend(list(label.cpu().data.numpy().astype(int)==(sigmoid(pred).cpu().data.numpy()+0.5).astype(int)))\n",
    "        history['val_pred'].append(list(sigmoid(pred).cpu().data.numpy()))\n",
    "\n",
    "    print(log_msg.format(total_step, np.mean(history['tr_loss']), np.mean(history['tr_acc']),\n",
    "                    np.mean(history['val_loss']), np.mean(history['val_acc']),step_cost_time), flush=True)\n",
    "    \n",
    "    print(valid_msg.format(total_step,np.mean(history['tr_loss']),np.mean(history['tr_acc']),\n",
    "                           np.mean(history['val_loss']),np.mean(history['val_acc'])))\n",
    "    if valid_best_acc < np.mean(history['val_acc']):\n",
    "        valid_best_acc = np.mean(history['val_acc'])\n",
    "        torch.save(malconv,'Chkp/chkp.txt')\n",
    "        print('Checkpoint saved at','Chkp/chkp.txt')\n",
    "#        write_pred(history['val_pred'],valid_idx,'Chkp/Pred/pred.txt')\n",
    "#        print('Prediction saved at', 'Chkp/Pred/pred.txt')\n",
    "\n",
    "    history['tr_loss'] = []\n",
    "    history['tr_acc'] = []"
   ]
  },
  {
   "cell_type": "code",
   "execution_count": null,
   "metadata": {},
   "outputs": [],
   "source": []
  }
 ],
 "metadata": {
  "kernelspec": {
   "display_name": "thesis",
   "language": "python",
   "name": "thesis"
  },
  "language_info": {
   "codemirror_mode": {
    "name": "ipython",
    "version": 3
   },
   "file_extension": ".py",
   "mimetype": "text/x-python",
   "name": "python",
   "nbconvert_exporter": "python",
   "pygments_lexer": "ipython3",
   "version": "3.7.1"
  }
 },
 "nbformat": 4,
 "nbformat_minor": 2
}
