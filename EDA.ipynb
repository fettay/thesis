{
 "cells": [
  {
   "cell_type": "markdown",
   "metadata": {},
   "source": [
    "# EDA"
   ]
  },
  {
   "cell_type": "code",
   "execution_count": 2,
   "metadata": {},
   "outputs": [],
   "source": [
    "%matplotlib inline"
   ]
  },
  {
   "cell_type": "code",
   "execution_count": 3,
   "metadata": {},
   "outputs": [],
   "source": [
    "from globals import DATADIR, DATAMALDIR, LOCAL_BUCKET, BENIGN_LIST, MALICIOUS_LIST, BENIGN, MALICIOUS\n",
    "from storage import FsStorage\n",
    "import pandas as pd\n",
    "import numpy as np\n",
    "import matplotlib.pyplot as plt"
   ]
  },
  {
   "cell_type": "code",
   "execution_count": 4,
   "metadata": {},
   "outputs": [],
   "source": [
    "def files_df():\n",
    "    flist = []\n",
    "    verdicts = []\n",
    "    \n",
    "    with open(BENIGN_LIST) as f:\n",
    "        lines = f.read().split()\n",
    "    flist.extend(lines)\n",
    "    verdicts.extend([BENIGN]*len(lines))\n",
    "    \n",
    "    with open(MALICIOUS_LIST) as f:\n",
    "        lines = f.read().split()\n",
    "    flist.extend(lines)\n",
    "    verdicts.extend([MALICIOUS]*len(lines))\n",
    "    return pd.DataFrame({'hash': flist, 'verdict': verdicts})"
   ]
  },
  {
   "cell_type": "code",
   "execution_count": 5,
   "metadata": {},
   "outputs": [],
   "source": [
    "df = files_df().sample(frac=1, random_state=42)\n",
    "cut_index = int(0.9*df.shape[0])\n",
    "df_train, df_test = df.iloc[:cut_index], df.iloc[cut_index:]"
   ]
  },
  {
   "cell_type": "code",
   "execution_count": 6,
   "metadata": {},
   "outputs": [
    {
     "data": {
      "text/plain": [
       "set()"
      ]
     },
     "execution_count": 6,
     "metadata": {},
     "output_type": "execute_result"
    }
   ],
   "source": [
    "set(df_train.index).intersection(set(df_test.index))"
   ]
  },
  {
   "cell_type": "markdown",
   "metadata": {},
   "source": [
    "### Dummy clf"
   ]
  },
  {
   "cell_type": "code",
   "execution_count": 7,
   "metadata": {},
   "outputs": [],
   "source": [
    "class DummyClassifier:\n",
    "    def __init__(self):\n",
    "        self.classes_proba = None\n",
    "    def fit(self, y):\n",
    "        \"\"\"\n",
    "        y: pd series\n",
    "        \"\"\"\n",
    "        self.classes_proba = y.value_counts() / y.shape[0]\n",
    "    def predict(self, x):\n",
    "        return np.random.choice(self.classes_proba.index, size=x.shape[0], p=self.classes_proba.values)"
   ]
  },
  {
   "cell_type": "code",
   "execution_count": 8,
   "metadata": {},
   "outputs": [],
   "source": [
    "clf = DummyClassifier()"
   ]
  },
  {
   "cell_type": "code",
   "execution_count": 9,
   "metadata": {},
   "outputs": [],
   "source": [
    "clf.fit(df_train['verdict'])"
   ]
  },
  {
   "cell_type": "code",
   "execution_count": 10,
   "metadata": {},
   "outputs": [],
   "source": [
    "preds = clf.predict(df_test)"
   ]
  },
  {
   "cell_type": "code",
   "execution_count": 11,
   "metadata": {},
   "outputs": [
    {
     "data": {
      "text/plain": [
       "0.747985938186612"
      ]
     },
     "execution_count": 11,
     "metadata": {},
     "output_type": "execute_result"
    }
   ],
   "source": [
    "np.sum(preds == df_test['verdict']) / df_test['verdict'].shape[0]"
   ]
  },
  {
   "cell_type": "markdown",
   "metadata": {},
   "source": [
    "### Size of mals"
   ]
  },
  {
   "cell_type": "code",
   "execution_count": 12,
   "metadata": {},
   "outputs": [],
   "source": [
    "import os\n",
    "from pylab import rcParams\n",
    "rcParams['figure.figsize'] = 20, 10"
   ]
  },
  {
   "cell_type": "code",
   "execution_count": 13,
   "metadata": {},
   "outputs": [],
   "source": [
    "mals = df[df['verdict'] == 1]"
   ]
  },
  {
   "cell_type": "code",
   "execution_count": 14,
   "metadata": {},
   "outputs": [
    {
     "name": "stderr",
     "output_type": "stream",
     "text": [
      "/specific/scratches/scratch/miniconda3/envs/thesis/lib/python3.7/site-packages/ipykernel_launcher.py:2: SettingWithCopyWarning: \n",
      "A value is trying to be set on a copy of a slice from a DataFrame.\n",
      "Try using .loc[row_indexer,col_indexer] = value instead\n",
      "\n",
      "See the caveats in the documentation: http://pandas.pydata.org/pandas-docs/stable/indexing.html#indexing-view-versus-copy\n",
      "  \n"
     ]
    }
   ],
   "source": [
    "sizes = [os.path.getsize(LOCAL_BUCKET + DATAMALDIR + name) for name in mals['hash']]\n",
    "mals['sizes'] = sizes"
   ]
  },
  {
   "cell_type": "code",
   "execution_count": 15,
   "metadata": {},
   "outputs": [
    {
     "data": {
      "image/png": "[encoded data removed]",
      "text/plain": [
       "<Figure size 1440x720 with 1 Axes>"
      ]
     },
     "metadata": {
      "needs_background": "light"
     },
     "output_type": "display_data"
    }
   ],
   "source": [
    "bins = np.array([0, 1000, 10000, 50000, 100000, 200000, 400000, 600000, 800000, 1000000, 2000000, 5000000])\n",
    "mals['sizes'].hist(bins=bins, histtype='stepfilled')\n",
    "plt.xticks(bins)\n",
    "plt.show()"
   ]
  }
 ],
 "metadata": {
  "kernelspec": {
   "display_name": "Python 3",
   "language": "python",
   "name": "python3"
  },
  "language_info": {
   "codemirror_mode": {
    "name": "ipython",
    "version": 3
   },
   "file_extension": ".py",
   "mimetype": "text/x-python",
   "name": "python",
   "nbconvert_exporter": "python",
   "pygments_lexer": "ipython3",
   "version": "3.7.1"
  }
 },
 "nbformat": 4,
 "nbformat_minor": 2
}
