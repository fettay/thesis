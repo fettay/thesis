{
 "cells": [
  {
   "cell_type": "markdown",
   "metadata": {},
   "source": [
    "# MalconV on PDF"
   ]
  },
  {
   "cell_type": "markdown",
   "metadata": {},
   "source": [
    "### Preprocessing"
   ]
  },
  {
   "cell_type": "code",
   "execution_count": 1,
   "metadata": {},
   "outputs": [],
   "source": [
    "from globals import DATADIR, DATAMALDIR, LOCAL_BUCKET, BENIGN_LIST, MALICIOUS_LIST, BENIGN, MALICIOUS\n",
    "from storage import FsStorage\n",
    "import pandas as pd"
   ]
  },
  {
   "cell_type": "code",
   "execution_count": 2,
   "metadata": {},
   "outputs": [],
   "source": [
    "def files_df():\n",
    "    flist = []\n",
    "    verdicts = []\n",
    "    \n",
    "    with open(BENIGN_LIST) as f:\n",
    "        lines = f.read().split()\n",
    "    flist.extend(lines)\n",
    "    verdicts.extend([BENIGN]*len(lines))\n",
    "    \n",
    "    with open(MALICIOUS_LIST) as f:\n",
    "        lines = f.read().split()\n",
    "    flist.extend(lines)\n",
    "    verdicts.extend([MALICIOUS]*len(lines))\n",
    "    return pd.DataFrame({'hash': flist, 'verdict': verdicts})"
   ]
  },
  {
   "cell_type": "code",
   "execution_count": 3,
   "metadata": {},
   "outputs": [],
   "source": [
    "def get_file(name, label):\n",
    "    storage = FsStorage()\n",
    "    if label == BENIGN:\n",
    "        return storage.get(DATADIR + name)\n",
    "    elif label == MALICIOUS:\n",
    "        return storage.get(DATAMALDIR + name)\n",
    "    raise ValueError(\"Bad label\")"
   ]
  },
  {
   "cell_type": "code",
   "execution_count": 4,
   "metadata": {},
   "outputs": [],
   "source": [
    "df = files_df().sample(frac=1, random_state=42)\n",
    "cut_index = (int(0.9*df.shape[0]), int(0.92*df.shape[0]))\n",
    "df_train, df_valid, df_test = df.iloc[:cut_index[0]], df.iloc[cut_index[0]:cut_index[1]], df.iloc[cut_index[1]:]"
   ]
  },
  {
   "cell_type": "markdown",
   "metadata": {},
   "source": [
    "### Defining the network"
   ]
  },
  {
   "cell_type": "code",
   "execution_count": 5,
   "metadata": {},
   "outputs": [],
   "source": [
    "INPUT_LENGTH = 1024*200\n",
    "INPUT_HEIGHT = 257"
   ]
  },
  {
   "cell_type": "code",
   "execution_count": 6,
   "metadata": {},
   "outputs": [
    {
     "name": "stdout",
     "output_type": "stream",
     "text": [
      "cuda:0\n"
     ]
    }
   ],
   "source": [
    "import numpy as np\n",
    "import torch\n",
    "import torch.nn as nn\n",
    "import torch.nn.functional as F\n",
    "from torch.utils.data import Dataset\n",
    "device = torch.device(\"cuda:0\" if torch.cuda.is_available() else \"cpu\")\n",
    "print(device)"
   ]
  },
  {
   "cell_type": "code",
   "execution_count": 7,
   "metadata": {},
   "outputs": [],
   "source": [
    "class MalConv(nn.Module):\n",
    "    def __init__(self,input_height=INPUT_HEIGHT, input_length=INPUT_LENGTH, window_size=500):\n",
    "        super().__init__()\n",
    "        embedding_size = 16\n",
    "        self.embed = nn.Embedding(input_height, embedding_size) \n",
    "        self.conv_1 = nn.Conv1d(embedding_size, 128, window_size, stride=window_size, bias=True)\n",
    "        self.conv_2 = nn.Conv1d(embedding_size, 128, window_size, stride=window_size, bias=True)\n",
    "\n",
    "        self.pooling = nn.MaxPool1d(int(input_length/window_size))\n",
    "        \n",
    "\n",
    "        self.fc_1 = nn.Linear(128,128)\n",
    "        self.fc_2 = nn.Linear(128,1)\n",
    "\n",
    "        self.sigmoid = nn.Sigmoid()\n",
    "        #self.softmax = nn.Softmax()\n",
    "        \n",
    "\n",
    "    def forward(self,x):\n",
    "        # Channel first\n",
    "        x = self.embed(x)  # Output batch_size, flength, n_embed\n",
    "        x = torch.transpose(x, 1, 2) # Output batch_size, n_embed, flength\n",
    "        cnn_value = self.conv_1(x)\n",
    "        gating_weight = self.sigmoid(self.conv_2(x))\n",
    "\n",
    "        x = cnn_value * gating_weight\n",
    "        x = self.pooling(x)\n",
    "\n",
    "        x = x.view(-1,128)\n",
    "        x = self.fc_1(x)\n",
    "        x = self.fc_2(x)\n",
    "        #x = self.sigmoid(x)\n",
    "\n",
    "        return x"
   ]
  },
  {
   "cell_type": "code",
   "execution_count": 8,
   "metadata": {},
   "outputs": [],
   "source": [
    "class PDFDataSet(Dataset):\n",
    "    def __init__(self, df, first_n_byte=INPUT_LENGTH):\n",
    "        self.df = df\n",
    "        self.first_n_byte = first_n_byte\n",
    "\n",
    "    def __len__(self):\n",
    "        return self.df.shape[0]\n",
    "\n",
    "    def __getitem__(self, idx):\n",
    "        row = self.df.iloc[idx]\n",
    "        cnt = get_file(row['hash'], row['verdict'])\n",
    "        tmp = [i+1 for i in cnt[:self.first_n_byte]]\n",
    "        tmp = tmp+[0]*(self.first_n_byte-len(tmp))\n",
    "        return np.array(tmp), np.array([row['verdict']])"
   ]
  },
  {
   "cell_type": "markdown",
   "metadata": {},
   "source": [
    "### Running "
   ]
  },
  {
   "cell_type": "code",
   "execution_count": 9,
   "metadata": {},
   "outputs": [],
   "source": [
    "from torch.utils.data import DataLoader\n",
    "import torch\n",
    "import torch.nn as nn\n",
    "import torch.optim as optim\n",
    "from torch.autograd import Variable\n",
    "import time"
   ]
  },
  {
   "cell_type": "code",
   "execution_count": 10,
   "metadata": {},
   "outputs": [],
   "source": [
    "BATCH_SIZE = 32\n",
    "use_gpu = True\n",
    "learning_rate = 1e-3\n",
    "max_step = (int(df_train.shape[0] / 32) + 1) * 4   # Last number is the number of epochs\n",
    "display_step = 15\n",
    "test_step = 300"
   ]
  },
  {
   "cell_type": "code",
   "execution_count": 11,
   "metadata": {},
   "outputs": [
    {
     "name": "stderr",
     "output_type": "stream",
     "text": [
      "ERROR:root:Internal Python error in the inspect module.\n",
      "Below is the traceback from this internal error.\n",
      "\n"
     ]
    },
    {
     "name": "stdout",
     "output_type": "stream",
     "text": [
      "Traceback (most recent call last):\n",
      "  File \"/specific/scratches/scratch/miniconda3/envs/thesis/lib/python3.7/site-packages/IPython/core/interactiveshell.py\", line 3267, in run_code\n",
      "    exec(code_obj, self.user_global_ns, self.user_ns)\n",
      "  File \"<ipython-input-11-b1ff4e265746>\", line 10, in <module>\n",
      "    malconv = malconv.cuda()\n",
      "  File \"/specific/scratches/scratch/miniconda3/envs/thesis/lib/python3.7/site-packages/torch/nn/modules/module.py\", line 258, in cuda\n",
      "    return self._apply(lambda t: t.cuda(device))\n",
      "  File \"/specific/scratches/scratch/miniconda3/envs/thesis/lib/python3.7/site-packages/torch/nn/modules/module.py\", line 185, in _apply\n",
      "    module._apply(fn)\n",
      "  File \"/specific/scratches/scratch/miniconda3/envs/thesis/lib/python3.7/site-packages/torch/nn/modules/module.py\", line 191, in _apply\n",
      "    param.data = fn(param.data)\n",
      "  File \"/specific/scratches/scratch/miniconda3/envs/thesis/lib/python3.7/site-packages/torch/nn/modules/module.py\", line 258, in <lambda>\n",
      "    return self._apply(lambda t: t.cuda(device))\n",
      "KeyboardInterrupt\n",
      "\n",
      "During handling of the above exception, another exception occurred:\n",
      "\n",
      "Traceback (most recent call last):\n",
      "  File \"/specific/scratches/scratch/miniconda3/envs/thesis/lib/python3.7/site-packages/IPython/core/interactiveshell.py\", line 2018, in showtraceback\n",
      "    stb = value._render_traceback_()\n",
      "AttributeError: 'KeyboardInterrupt' object has no attribute '_render_traceback_'\n",
      "\n",
      "During handling of the above exception, another exception occurred:\n",
      "\n",
      "Traceback (most recent call last):\n",
      "  File \"/specific/scratches/scratch/miniconda3/envs/thesis/lib/python3.7/site-packages/IPython/core/ultratb.py\", line 1095, in get_records\n",
      "    return _fixed_getinnerframes(etb, number_of_lines_of_context, tb_offset)\n",
      "  File \"/specific/scratches/scratch/miniconda3/envs/thesis/lib/python3.7/site-packages/IPython/core/ultratb.py\", line 313, in wrapped\n",
      "    return f(*args, **kwargs)\n",
      "  File \"/specific/scratches/scratch/miniconda3/envs/thesis/lib/python3.7/site-packages/IPython/core/ultratb.py\", line 347, in _fixed_getinnerframes\n",
      "    records = fix_frame_records_filenames(inspect.getinnerframes(etb, context))\n",
      "  File \"/specific/scratches/scratch/miniconda3/envs/thesis/lib/python3.7/inspect.py\", line 1500, in getinnerframes\n",
      "    frameinfo = (tb.tb_frame,) + getframeinfo(tb, context)\n",
      "  File \"/specific/scratches/scratch/miniconda3/envs/thesis/lib/python3.7/inspect.py\", line 1458, in getframeinfo\n",
      "    filename = getsourcefile(frame) or getfile(frame)\n",
      "  File \"/specific/scratches/scratch/miniconda3/envs/thesis/lib/python3.7/inspect.py\", line 696, in getsourcefile\n",
      "    if getattr(getmodule(object, filename), '__loader__', None) is not None:\n",
      "  File \"/specific/scratches/scratch/miniconda3/envs/thesis/lib/python3.7/inspect.py\", line 739, in getmodule\n",
      "    f = getabsfile(module)\n",
      "  File \"/specific/scratches/scratch/miniconda3/envs/thesis/lib/python3.7/inspect.py\", line 708, in getabsfile\n",
      "    _filename = getsourcefile(object) or getfile(object)\n",
      "  File \"/specific/scratches/scratch/miniconda3/envs/thesis/lib/python3.7/inspect.py\", line 693, in getsourcefile\n",
      "    if os.path.exists(filename):\n",
      "  File \"/specific/scratches/scratch/miniconda3/envs/thesis/lib/python3.7/genericpath.py\", line 19, in exists\n",
      "    os.stat(path)\n",
      "KeyboardInterrupt\n"
     ]
    },
    {
     "ename": "KeyboardInterrupt",
     "evalue": "",
     "output_type": "error",
     "traceback": [
      "\u001b[0;31m---------------------------------------------------------------------------\u001b[0m"
     ]
    }
   ],
   "source": [
    "dataloader = DataLoader(PDFDataSet(df_train), batch_size=BATCH_SIZE, shuffle=True)\n",
    "validloader = DataLoader(PDFDataSet(df_valid), batch_size=BATCH_SIZE, shuffle=True)\n",
    "\n",
    "malconv = MalConv()\n",
    "bce_loss = nn.BCEWithLogitsLoss()\n",
    "adam_optim = optim.Adam([{'params':malconv.parameters()}],lr=learning_rate)\n",
    "sigmoid = nn.Sigmoid()\n",
    "\n",
    "if use_gpu:\n",
    "    malconv = malconv.cuda()\n",
    "    bce_loss = bce_loss.cuda()\n",
    "    sigmoid = sigmoid.cuda()\n",
    "\n",
    "\n",
    "step_msg = 'step-{}-loss-{:.6f}-acc-{:.4f}-time-{:.2f}'\n",
    "valid_msg = 'step-{}-tr_loss-{:.6f}-tr_acc-{:.4f}-val_loss-{:.6f}-val_acc-{:.4f}'\n",
    "log_msg = '{}, {:.6f}, {:.4f}, {:.6f}, {:.4f}, {:.2f}'\n",
    "history = {}\n",
    "history['tr_loss'] = []\n",
    "history['tr_acc'] = []\n",
    "\n",
    "print('step,tr_loss, tr_acc, val_loss, val_acc, time\\n')\n",
    "\n",
    "valid_best_acc = 0.0\n",
    "total_step = 0\n",
    "step_cost_time = 0\n",
    "\n",
    "while total_step < max_step:\n",
    "    \n",
    "    # Training \n",
    "    for step,batch_data in enumerate(dataloader):\n",
    "        start = time.time()\n",
    "        \n",
    "        adam_optim.zero_grad()\n",
    "        \n",
    "        cur_batch_size = batch_data[0].size(0)\n",
    "\n",
    "        exe_input = batch_data[0].cuda() if use_gpu else batch_data[0]\n",
    "        exe_input = Variable(exe_input.long(),requires_grad=False)\n",
    "        label = batch_data[1].cuda() if use_gpu else batch_data[1]\n",
    "        label = Variable(label.float(),requires_grad=False)\n",
    "        pred = malconv(exe_input)\n",
    "        loss = bce_loss(pred,label)\n",
    "        loss.backward()\n",
    "        adam_optim.step()\n",
    "        history['tr_loss'].append(loss.cpu().data.item())\n",
    "        history['tr_acc'].extend(list(label.cpu().data.numpy().astype(int)==(sigmoid(pred).cpu().data.numpy()+0.5).astype(int)))\n",
    "        \n",
    "        step_cost_time = time.time()-start\n",
    "        \n",
    "        if step%display_step == 0:\n",
    "            print(step_msg.format(total_step,np.mean(history['tr_loss']),\n",
    "                                  np.mean(history['tr_acc']),step_cost_time))\n",
    "        total_step += 1\n",
    "\n",
    "        # Interupt for validation\n",
    "        if total_step%test_step ==0:\n",
    "            break\n",
    "    \n",
    "    \n",
    "    # Testing\n",
    "    history['val_loss'] = []\n",
    "    history['val_acc'] = []\n",
    "    history['val_pred'] = []\n",
    "    \n",
    "    for _,val_batch_data in enumerate(validloader):\n",
    "        cur_batch_size = val_batch_data[0].size(0)\n",
    "\n",
    "        exe_input = val_batch_data[0].cuda() if use_gpu else val_batch_data[0]\n",
    "        exe_input = Variable(exe_input.long(),requires_grad=False)\n",
    "\n",
    "        label = val_batch_data[1].cuda() if use_gpu else val_batch_data[1]\n",
    "        label = Variable(label.float(),requires_grad=False)\n",
    "\n",
    "        pred = malconv(exe_input)\n",
    "        loss = bce_loss(pred,label)\n",
    "\n",
    "        history['val_loss'].append(loss.cpu().data.item())\n",
    "        history['val_acc'].extend(list(label.cpu().data.numpy().astype(int)==(sigmoid(pred).cpu().data.numpy()+0.5).astype(int)))\n",
    "        history['val_pred'].append(list(sigmoid(pred).cpu().data.numpy()))\n",
    "\n",
    "    print(log_msg.format(total_step, np.mean(history['tr_loss']), np.mean(history['tr_acc']),\n",
    "                    np.mean(history['val_loss']), np.mean(history['val_acc']),step_cost_time))\n",
    "    \n",
    "    print(valid_msg.format(total_step,np.mean(history['tr_loss']),np.mean(history['tr_acc']),\n",
    "                           np.mean(history['val_loss']),np.mean(history['val_acc'])))\n",
    "    if valid_best_acc < np.mean(history['val_acc']):\n",
    "        valid_best_acc = np.mean(history['val_acc'])\n",
    "        torch.save(malconv,'Chkp/chkp2.txt')\n",
    "        print('Checkpoint saved at','Chkp/chkp2.txt')\n",
    "#        write_pred(history['val_pred'],valid_idx,'Chkp/Pred/pred.txt')\n",
    "#        print('Prediction saved at', 'Chkp/Pred/pred.txt')\n",
    "\n",
    "    history['tr_loss'] = []\n",
    "    history['tr_acc'] = []"
   ]
  },
  {
   "cell_type": "markdown",
   "metadata": {},
   "source": [
    "### Testing"
   ]
  }
 ],
 "metadata": {
  "kernelspec": {
   "display_name": "thesis",
   "language": "python",
   "name": "thesis"
  },
  "language_info": {
   "codemirror_mode": {
    "name": "ipython",
    "version": 3
   },
   "file_extension": ".py",
   "mimetype": "text/x-python",
   "name": "python",
   "nbconvert_exporter": "python",
   "pygments_lexer": "ipython3",
   "version": "3.7.1"
  }
 },
 "nbformat": 4,
 "nbformat_minor": 2
}
